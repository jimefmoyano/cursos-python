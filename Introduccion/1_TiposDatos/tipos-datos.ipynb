{
  "cells": [
    {
      "cell_type": "markdown",
      "metadata": {
        "id": "view-in-github",
        "colab_type": "text"
      },
      "source": [
        "<a href=\"https://colab.research.google.com/github/jimefmoyano/cursos-python/blob/master/Introduccion/1_TiposDatos/tipos-datos.ipynb\" target=\"_parent\"><img src=\"https://colab.research.google.com/assets/colab-badge.svg\" alt=\"Open In Colab\"/></a>"
      ]
    },
    {
      "cell_type": "markdown",
      "metadata": {
        "id": "GDWTDS-Sv3Br"
      },
      "source": [
        "<a href=\"https://colab.research.google.com/github/institutohumai/cursos-python/blob/master/Introduccion/1_TiposDatos/tipos-datos.ipynb\"> <img src='https://colab.research.google.com/assets/colab-badge.svg' /> </a>\n",
        "<div align=\"center\"> Recordá abrir en una nueva pestaña </div>\n"
      ]
    },
    {
      "cell_type": "code",
      "metadata": {
        "hidePrompt": false,
        "id": "9al6coO99zcc"
      },
      "source": [
        "# Introducción a la programación con Python"
      ],
      "execution_count": 1,
      "outputs": []
    },
    {
      "cell_type": "markdown",
      "metadata": {
        "id": "CMIeLt_-v3Bv"
      },
      "source": [
        "<h1 id=\"tocheading\">Tabla de Contenidos</h1>\n",
        "<div id=\"toc\"></div>"
      ]
    },
    {
      "cell_type": "markdown",
      "metadata": {
        "id": "9hxn-ZSjv3Bw"
      },
      "source": [
        "I. Introducción a la programación con Python\n",
        "\n",
        "II. Tabla de Contenidos\n",
        "\n",
        "    I. Python\n",
        "\n",
        "III. IDEs\n",
        "\n",
        "        I. VS Code\n",
        "        II. Pycharm\n",
        "        III. Spyder\n",
        "\n",
        "IV. Hola Jupyter!\n",
        "\n",
        "V. Declarando variables\n",
        "\n",
        "    I. Numéricos\n",
        "    II. Operaciones numéricas - Divisiones\n",
        "    III. Booleanos\n",
        "        I. Operaciones lógicas\n",
        "\n",
        "VI. Ejercicios\n",
        "\n",
        "    I. Strings\n",
        "            I. Ejercicios\n",
        "    II. Listas\n",
        "        I. Indexing y slicing en listas\n",
        "        II. Otras operaciones y métodos\n",
        "    III. Diccionarios\n",
        "    IV. Condicionales\n",
        "    V. Bucles o Loops\n",
        "        I. For loop\n",
        "        II. While loop\n",
        "    VI. Recursos y tips\n",
        "    VII. Tips en la práctica"
      ]
    },
    {
      "cell_type": "markdown",
      "metadata": {
        "hidePrompt": true,
        "id": "9HSjF6FZv3Bw"
      },
      "source": [
        "## Python\n",
        "\n",
        "- Elegante, sencillo\n",
        "- Comunidad y accesibilidad\n",
        "- Desarrollos de estado del arte\n",
        "- Flexibilidad \"full stack\"\n",
        "- Multi-paradigma\n"
      ]
    },
    {
      "cell_type": "markdown",
      "metadata": {
        "id": "6aGmRlEdv3Bw"
      },
      "source": [
        "# IDEs"
      ]
    },
    {
      "cell_type": "markdown",
      "metadata": {
        "id": "yr4Z9tTZv3Bx"
      },
      "source": [
        "### VS Code"
      ]
    },
    {
      "cell_type": "markdown",
      "metadata": {
        "id": "inZSdfDxv3Bx"
      },
      "source": [
        "<img src='https://datasets-humai.s3.amazonaws.com/images/IDE.png'></img>"
      ]
    },
    {
      "cell_type": "markdown",
      "metadata": {
        "id": "uTZ_NGsav3Bx"
      },
      "source": [
        "### Pycharm"
      ]
    },
    {
      "cell_type": "markdown",
      "metadata": {
        "id": "ACTL_dOvv3Bx"
      },
      "source": [
        "<img src='https://datasets-humai.s3.amazonaws.com/images/Pycharm.png'></img>"
      ]
    },
    {
      "cell_type": "markdown",
      "metadata": {
        "id": "7V5JIp2gv3By"
      },
      "source": [
        "### Spyder"
      ]
    },
    {
      "cell_type": "markdown",
      "metadata": {
        "id": "SJA5-rdpv3By"
      },
      "source": [
        "<img src='https://datasets-humai.s3.amazonaws.com/images/spyder.png'></img>"
      ]
    },
    {
      "cell_type": "markdown",
      "metadata": {
        "id": "zz37KJbi7Adx"
      },
      "source": [
        "# Hola Jupyter!\n",
        "\n",
        "En esta _notebook_ conoceremos el entorno Jupyter (o Google Colaboratory, una versión online gratuita), interfaz incluida en la instalación de Python ampliamente usada para Data Science llamada <a href=\"https://www.anaconda.com/products/individual\"/> Anaconda </a>. Para seguir el curso offline, luego de descargar e instalar Anaconda, si usan Windows deberán buscar el programa en su computadora y ejecutar Jupyter.\n",
        "\n",
        "Si están en una distribución de linux o Mac pueden ejecutar en la terminal:\n",
        "\n",
        "> jupyter notebook\n",
        "\n",
        "Cada una de estas _celdas_ funciona como un bloque donde podemos escribir texto plano, Latex, HTML, además de ejecutar código Python, R, bash y otros.\n",
        "\n",
        "$$\\bar{x} = \\frac{1}{n} \\sum_{i=1}^n x_i$$"
      ]
    },
    {
      "cell_type": "markdown",
      "metadata": {
        "id": "AcoLjYP-NWpd"
      },
      "source": [
        "# Declarando variables <a name=\"section-2\"></a>"
      ]
    },
    {
      "cell_type": "markdown",
      "metadata": {
        "id": "oFtrilzdZHCG"
      },
      "source": [
        "Existen distintos tipos de variables:\n",
        "- int: entero\n",
        "- float: punto flotante\n",
        "- string: cadena de caracteres\n",
        "- bool: booleano, 0, 1, True o False\n",
        "\n",
        "Y estructuras de datos, como:\n",
        "  - list: lista de elementos (de cualquier tipo, incluida otra lista)\n",
        "  - dict: \"diccionario\", conjunto de pares llave:valor\n",
        "  \n",
        "Veamos un primer ejemplo"
      ]
    },
    {
      "cell_type": "code",
      "execution_count": 2,
      "metadata": {
        "colab": {
          "base_uri": "https://localhost:8080/"
        },
        "id": "8Pc0ayKcv3Bz",
        "outputId": "e6c94b19-975b-4b67-fd79-9fc835b0ec45"
      },
      "outputs": [
        {
          "output_type": "stream",
          "name": "stdout",
          "text": [
            "Hola mundo!\n"
          ]
        }
      ],
      "source": [
        "primera_variable = 'Hola mundo!'\n",
        "\n",
        "print(primera_variable)"
      ]
    },
    {
      "cell_type": "markdown",
      "metadata": {
        "id": "uU9vKz7sv3Bz"
      },
      "source": [
        "Declaramos una variable llamada *primera_variable* asignándole el valor de \"Hola mundo!\". La **función print** toma entre paréntesis esa variable y muestra el valor en pantalla."
      ]
    },
    {
      "cell_type": "markdown",
      "metadata": {
        "id": "QzsJfS2Pv3Bz"
      },
      "source": [
        "En Jupyter la última línea de una celda se imprime al ejecutar..."
      ]
    },
    {
      "cell_type": "code",
      "execution_count": 3,
      "metadata": {
        "colab": {
          "base_uri": "https://localhost:8080/",
          "height": 36
        },
        "id": "qBK9oi6Bv3Bz",
        "outputId": "f99c524f-4c95-454b-af82-709bfe872162"
      },
      "outputs": [
        {
          "output_type": "execute_result",
          "data": {
            "text/plain": [
              "'Hola mundo!'"
            ],
            "application/vnd.google.colaboratory.intrinsic+json": {
              "type": "string"
            }
          },
          "metadata": {},
          "execution_count": 3
        }
      ],
      "source": [
        "primera_variable"
      ]
    },
    {
      "cell_type": "markdown",
      "metadata": {
        "id": "xX46s7ZZv3Bz"
      },
      "source": [
        "## Numéricos"
      ]
    },
    {
      "cell_type": "markdown",
      "metadata": {
        "id": "__skoFZ3v3Bz"
      },
      "source": [
        "Declaramos dos variables de tipo numérico:"
      ]
    },
    {
      "cell_type": "code",
      "execution_count": 4,
      "metadata": {
        "hidePrompt": true,
        "id": "mfxF76C4ZGJK"
      },
      "outputs": [],
      "source": [
        "x = 5\n",
        "y = 17"
      ]
    },
    {
      "cell_type": "markdown",
      "metadata": {
        "id": "VVs_weCev3Bz"
      },
      "source": [
        "Podemos hacer las operaciones numéricas usuales:"
      ]
    },
    {
      "cell_type": "code",
      "execution_count": 5,
      "metadata": {
        "hidePrompt": true,
        "colab": {
          "base_uri": "https://localhost:8080/"
        },
        "id": "CvtUZUOsv3B0",
        "outputId": "41f55dd2-2dca-4f7e-9f22-85ae8eeb197e"
      },
      "outputs": [
        {
          "output_type": "stream",
          "name": "stdout",
          "text": [
            "22\n",
            "10\n",
            "2.23606797749979\n"
          ]
        }
      ],
      "source": [
        "print(x+y) # suma\n",
        "print(x*2) # multiplicacion\n",
        "print(x**(1/2)) # elevado a"
      ]
    },
    {
      "cell_type": "markdown",
      "metadata": {
        "id": "-1adKJjjv3B0"
      },
      "source": [
        "## Operaciones numéricas - Divisiones"
      ]
    },
    {
      "cell_type": "markdown",
      "metadata": {
        "id": "FYJB2S3Av3B0"
      },
      "source": [
        "Devuelve la división:"
      ]
    },
    {
      "cell_type": "code",
      "execution_count": 6,
      "metadata": {
        "colab": {
          "base_uri": "https://localhost:8080/"
        },
        "id": "AJhdztFfv3B0",
        "outputId": "85c82fe0-6281-4c41-cefe-6e4841d9d5ad"
      },
      "outputs": [
        {
          "output_type": "stream",
          "name": "stdout",
          "text": [
            "3.4\n"
          ]
        }
      ],
      "source": [
        "print(y / x)"
      ]
    },
    {
      "cell_type": "markdown",
      "metadata": {
        "id": "Smme7Kvhv3B0"
      },
      "source": [
        "Devuelve la parte entera de la división:"
      ]
    },
    {
      "cell_type": "code",
      "execution_count": 7,
      "metadata": {
        "colab": {
          "base_uri": "https://localhost:8080/"
        },
        "id": "IOsCeLkYv3B0",
        "outputId": "1084a427-ee78-4833-905f-e7a3c2473dcc"
      },
      "outputs": [
        {
          "output_type": "stream",
          "name": "stdout",
          "text": [
            "3\n"
          ]
        }
      ],
      "source": [
        "print(y // x)"
      ]
    },
    {
      "cell_type": "markdown",
      "metadata": {
        "id": "vRsjVU7Jv3B0"
      },
      "source": [
        "Devuelve el resto:"
      ]
    },
    {
      "cell_type": "code",
      "execution_count": 8,
      "metadata": {
        "colab": {
          "base_uri": "https://localhost:8080/"
        },
        "id": "FUFeqovRv3B0",
        "outputId": "0c2d5fb6-fade-4746-eec8-263ca8461208"
      },
      "outputs": [
        {
          "output_type": "stream",
          "name": "stdout",
          "text": [
            "2\n"
          ]
        }
      ],
      "source": [
        "print(y % x)"
      ]
    },
    {
      "cell_type": "markdown",
      "metadata": {
        "id": "GhxXbRcMv3B0"
      },
      "source": [
        "Otros ejemplos:"
      ]
    },
    {
      "cell_type": "code",
      "execution_count": 9,
      "metadata": {
        "hidePrompt": true,
        "id": "pPFQT4uhv3B1"
      },
      "outputs": [],
      "source": [
        "un_string = 'variable de ejemplo'\n",
        "un_bool = True"
      ]
    },
    {
      "cell_type": "markdown",
      "metadata": {
        "id": "yIDUVwLWv3B1"
      },
      "source": [
        "La **función** _type_ recibe de **argumento** una **variable** y **devuelve** su tipo"
      ]
    },
    {
      "cell_type": "code",
      "execution_count": 10,
      "metadata": {
        "colab": {
          "base_uri": "https://localhost:8080/"
        },
        "id": "5U-UYYiev3B1",
        "outputId": "f3afdd2b-49fc-435a-ef68-d550a86a32ff"
      },
      "outputs": [
        {
          "output_type": "execute_result",
          "data": {
            "text/plain": [
              "(int, int)"
            ]
          },
          "metadata": {},
          "execution_count": 10
        }
      ],
      "source": [
        "type(x), type(y)"
      ]
    },
    {
      "cell_type": "markdown",
      "metadata": {
        "id": "YiOJ3iGnv3B1"
      },
      "source": [
        "Intentemos la siguiente suma..."
      ]
    },
    {
      "cell_type": "code",
      "execution_count": 11,
      "metadata": {
        "colab": {
          "base_uri": "https://localhost:8080/",
          "height": 141
        },
        "id": "mfdg3Y9Av3B1",
        "outputId": "4af3832e-ba41-4be1-e1e8-0acadb56a5e3"
      },
      "outputs": [
        {
          "output_type": "error",
          "ename": "TypeError",
          "evalue": "unsupported operand type(s) for +: 'int' and 'str'",
          "traceback": [
            "\u001b[0;31m---------------------------------------------------------------------------\u001b[0m",
            "\u001b[0;31mTypeError\u001b[0m                                 Traceback (most recent call last)",
            "\u001b[0;32m/tmp/ipython-input-2330720926.py\u001b[0m in \u001b[0;36m<cell line: 0>\u001b[0;34m()\u001b[0m\n\u001b[0;32m----> 1\u001b[0;31m \u001b[0;36m5\u001b[0m \u001b[0;34m+\u001b[0m \u001b[0;34m\"10\"\u001b[0m\u001b[0;34m\u001b[0m\u001b[0;34m\u001b[0m\u001b[0m\n\u001b[0m",
            "\u001b[0;31mTypeError\u001b[0m: unsupported operand type(s) for +: 'int' and 'str'"
          ]
        }
      ],
      "source": [
        "5 + \"10\""
      ]
    },
    {
      "cell_type": "markdown",
      "metadata": {
        "id": "I51bxb95v3B1"
      },
      "source": [
        "¿Qué paso?"
      ]
    },
    {
      "cell_type": "markdown",
      "metadata": {
        "id": "BMNumeRLv3B1"
      },
      "source": [
        "Si **convertimos** el string \"10\" a tipo int"
      ]
    },
    {
      "cell_type": "code",
      "execution_count": null,
      "metadata": {
        "id": "TkAN66Drv3CA"
      },
      "outputs": [],
      "source": [
        "5 + int('10')"
      ]
    },
    {
      "cell_type": "markdown",
      "metadata": {
        "id": "3OQwhqZ6v3CA"
      },
      "source": [
        "Cada tipo de variable responde a ciertos **métodos**. Veamos las operaciones lógicas, que utilizan **booleanos**"
      ]
    },
    {
      "cell_type": "markdown",
      "metadata": {
        "id": "Z3eBVkHWv3CA"
      },
      "source": [
        "## Booleanos"
      ]
    },
    {
      "cell_type": "markdown",
      "metadata": {
        "id": "S6rM2fg4v3CA"
      },
      "source": [
        "### Operaciones lógicas"
      ]
    },
    {
      "cell_type": "code",
      "execution_count": null,
      "metadata": {
        "id": "wFCekQRUv3CB"
      },
      "outputs": [],
      "source": [
        "print(10 >= 9)"
      ]
    },
    {
      "cell_type": "code",
      "execution_count": 12,
      "metadata": {
        "colab": {
          "base_uri": "https://localhost:8080/"
        },
        "id": "5OZgUmiEv3CB",
        "outputId": "ab08cdb1-280e-4477-8c59-9e1eb5e53437"
      },
      "outputs": [
        {
          "output_type": "stream",
          "name": "stdout",
          "text": [
            "True\n",
            "False\n"
          ]
        }
      ],
      "source": [
        "print(\"palabra\" == \"palabra\")\n",
        "print(\"otras palabras\" != \"otras palabras\")"
      ]
    },
    {
      "cell_type": "code",
      "execution_count": 13,
      "metadata": {
        "colab": {
          "base_uri": "https://localhost:8080/"
        },
        "id": "n3bT29kyv3CB",
        "outputId": "e1fc75f8-417a-4118-9771-fbcf7825c6ad"
      },
      "outputs": [
        {
          "output_type": "stream",
          "name": "stdout",
          "text": [
            "True\n",
            "True\n"
          ]
        }
      ],
      "source": [
        "print(\"test\" in \"testing\")\n",
        "\n",
        "a = 'testing'\n",
        "\n",
        "print('test' in a)"
      ]
    },
    {
      "cell_type": "markdown",
      "metadata": {
        "id": "i4Uu8LSMv3CB"
      },
      "source": [
        "Los operadores disponibles son:\n",
        "\n",
        "    Relacionales:\n",
        "    - >= , <=, <, > : Mayor o igual, menor o igual, mayor o menor\n",
        "    - != , == : Distinto, Igual\n",
        "    - in : Contenido por\n",
        "    Lógicos:\n",
        "    - not o ~ : Negación\n",
        "    - and o & : Ambas verdaderas\n",
        "    - or o | : Una u otra es verdadera\n",
        "    \n",
        "Como booleanos, se pueden utilizar tanto 0 y 1 como True y False."
      ]
    },
    {
      "cell_type": "markdown",
      "metadata": {
        "id": "zRAy7gkDv3CB"
      },
      "source": [
        "# Ejercicios <a name=\"section-3\"></a>\n",
        "\n",
        "\n",
        "1- Definan a = 5, b = 7 y c = 8\n",
        "\n",
        "Prueben las siguientes operaciones booleanas:\n",
        "\n",
        "2- a > b\n",
        "\n",
        "3- a < b\n",
        "\n",
        "4- a + b < c\n",
        "\n",
        "5- (a + b > c) | (a + b < c) --> a + b o es mayor a c o es menor\n",
        "\n",
        "6- (a + b > c) & (a + b < c) --> a + b es mayor a c y es menor a c"
      ]
    },
    {
      "cell_type": "code",
      "source": [
        "a = 5\n",
        "b = 7\n",
        "c = 8"
      ],
      "metadata": {
        "id": "Rs1loZUp29pY"
      },
      "execution_count": 14,
      "outputs": []
    },
    {
      "cell_type": "code",
      "source": [
        "a + b < c"
      ],
      "metadata": {
        "colab": {
          "base_uri": "https://localhost:8080/"
        },
        "id": "CK7xaQzX3Znf",
        "outputId": "86de69d5-95ec-437a-fa29-7f7a56214e96"
      },
      "execution_count": 17,
      "outputs": [
        {
          "output_type": "execute_result",
          "data": {
            "text/plain": [
              "False"
            ]
          },
          "metadata": {},
          "execution_count": 17
        }
      ]
    },
    {
      "cell_type": "code",
      "source": [
        "a>b"
      ],
      "metadata": {
        "colab": {
          "base_uri": "https://localhost:8080/"
        },
        "id": "mlW09-Zk3NiU",
        "outputId": "2ae50dd0-160a-4da1-f9d0-95e86bb54288"
      },
      "execution_count": 15,
      "outputs": [
        {
          "output_type": "execute_result",
          "data": {
            "text/plain": [
              "False"
            ]
          },
          "metadata": {},
          "execution_count": 15
        }
      ]
    },
    {
      "cell_type": "code",
      "source": [
        "a<b"
      ],
      "metadata": {
        "colab": {
          "base_uri": "https://localhost:8080/"
        },
        "id": "5jf22v1l3Q3F",
        "outputId": "dd564482-3f4f-48bb-8cfc-0a2945723ac7"
      },
      "execution_count": 16,
      "outputs": [
        {
          "output_type": "execute_result",
          "data": {
            "text/plain": [
              "True"
            ]
          },
          "metadata": {},
          "execution_count": 16
        }
      ]
    },
    {
      "cell_type": "code",
      "source": [
        "(a + b > c) | (a + b < c)"
      ],
      "metadata": {
        "colab": {
          "base_uri": "https://localhost:8080/"
        },
        "id": "L2KTBByw3fYk",
        "outputId": "270f0839-84ac-4f09-ba95-ca88f91b9a34"
      },
      "execution_count": 18,
      "outputs": [
        {
          "output_type": "execute_result",
          "data": {
            "text/plain": [
              "True"
            ]
          },
          "metadata": {},
          "execution_count": 18
        }
      ]
    },
    {
      "cell_type": "code",
      "source": [
        "(a + b > c) & (a + b < c)"
      ],
      "metadata": {
        "colab": {
          "base_uri": "https://localhost:8080/"
        },
        "id": "N3mfU10v3mQI",
        "outputId": "f95d45b4-ff68-4d46-dea6-861935b77c23"
      },
      "execution_count": 19,
      "outputs": [
        {
          "output_type": "execute_result",
          "data": {
            "text/plain": [
              "False"
            ]
          },
          "metadata": {},
          "execution_count": 19
        }
      ]
    },
    {
      "cell_type": "markdown",
      "metadata": {
        "id": "ds-uop8Qv3CB"
      },
      "source": [
        "## Strings <a name=\"section-4\"></a>"
      ]
    },
    {
      "cell_type": "code",
      "execution_count": null,
      "metadata": {
        "id": "orKwAcqVv3CB"
      },
      "outputs": [],
      "source": [
        "\"dos strings se pueden \" + \"sumar\""
      ]
    },
    {
      "cell_type": "markdown",
      "metadata": {
        "id": "Iwd7q_Zcv3CB"
      },
      "source": [
        "Podemos acceder a ellos mediante **índices**. Los mismos funcionan para cualquier **iterable**, que es un objeto con muchos elementos que son accesibles secuencialmente. Podemos usar los índices para acceder a una posición determinada, pasándola entre corchetes [posición]. Es IMPORTANTE mencionar que en Python la primera posición tiene el índice 0 (y no 1)."
      ]
    },
    {
      "cell_type": "code",
      "execution_count": 20,
      "metadata": {
        "id": "dUrbI4GGv3CB"
      },
      "outputs": [],
      "source": [
        "texto = \"programación en python\""
      ]
    },
    {
      "cell_type": "code",
      "execution_count": 21,
      "metadata": {
        "colab": {
          "base_uri": "https://localhost:8080/",
          "height": 36
        },
        "id": "gJlPWuSjv3CC",
        "outputId": "d53185cd-b911-4ccc-a8a4-55b9fa56d576"
      },
      "outputs": [
        {
          "output_type": "execute_result",
          "data": {
            "text/plain": [
              "'p'"
            ],
            "application/vnd.google.colaboratory.intrinsic+json": {
              "type": "string"
            }
          },
          "metadata": {},
          "execution_count": 21
        }
      ],
      "source": [
        "texto[0]"
      ]
    },
    {
      "cell_type": "markdown",
      "metadata": {
        "id": "_rn2L3fLv3CC"
      },
      "source": [
        "También podemos usar los índices para traer más de un elemento al mismo tiempo, usando el **slicing**. El slicing lleva tres parámetros: comienzo (start), final (stop) e intervalo o paso (step).\n",
        "\n",
        "- El parámetro comienzo (start) indica la primera posición incluida en la selección, por default es 0.\n",
        "\n",
        "- El parámetro final (stop) es la primera posición que NO va a estar incluída, por default se incluyen todos los elementos.\n",
        "\n",
        "- El parámetro intervalo o paso (step), es optativo e indica el tamaño del paso entre seleccionar un elemento y el siguiente, por default el paso es 1. El paso también puede ser negativo, en este caso contamos desde el final hacia el comienzo, esto es muy útil para dar vuelta los strings...\n",
        "\n",
        "    \n",
        "    [comienzo : final : intervalo] (en inglés es [start : stop : step] )\n",
        "    \n",
        "    \n",
        "El intervalo que se recibe es semi-abierto (indice_primero, indice_segundo], es decir se incluye el primero y no el segundo valor. Se admiten números negativos, que contabilizan desde el final."
      ]
    },
    {
      "cell_type": "code",
      "execution_count": 22,
      "metadata": {
        "colab": {
          "base_uri": "https://localhost:8080/",
          "height": 36
        },
        "id": "tg74LQypv3CC",
        "outputId": "1ba69b13-cef7-4b21-cebe-31a3d8627265"
      },
      "outputs": [
        {
          "output_type": "execute_result",
          "data": {
            "text/plain": [
              "'programación en python'"
            ],
            "application/vnd.google.colaboratory.intrinsic+json": {
              "type": "string"
            }
          },
          "metadata": {},
          "execution_count": 22
        }
      ],
      "source": [
        "texto[:]"
      ]
    },
    {
      "cell_type": "code",
      "execution_count": 23,
      "metadata": {
        "colab": {
          "base_uri": "https://localhost:8080/",
          "height": 36
        },
        "id": "71YBX9czv3CC",
        "outputId": "8cedadfe-074d-4c22-c6d8-0218d558f185"
      },
      "outputs": [
        {
          "output_type": "execute_result",
          "data": {
            "text/plain": [
              "'p'"
            ],
            "application/vnd.google.colaboratory.intrinsic+json": {
              "type": "string"
            }
          },
          "metadata": {},
          "execution_count": 23
        }
      ],
      "source": [
        "texto[:1]"
      ]
    },
    {
      "cell_type": "code",
      "execution_count": 24,
      "metadata": {
        "colab": {
          "base_uri": "https://localhost:8080/",
          "height": 36
        },
        "id": "71XGt9mev3CC",
        "outputId": "35108e6a-419e-416e-c7e5-8f89e4957588"
      },
      "outputs": [
        {
          "output_type": "execute_result",
          "data": {
            "text/plain": [
              "'rog'"
            ],
            "application/vnd.google.colaboratory.intrinsic+json": {
              "type": "string"
            }
          },
          "metadata": {},
          "execution_count": 24
        }
      ],
      "source": [
        "texto[1:4]"
      ]
    },
    {
      "cell_type": "code",
      "execution_count": 25,
      "metadata": {
        "colab": {
          "base_uri": "https://localhost:8080/",
          "height": 36
        },
        "id": "4hCw0enmv3CC",
        "outputId": "d1c8064d-e984-446b-fed7-42cdc126b9dd"
      },
      "outputs": [
        {
          "output_type": "execute_result",
          "data": {
            "text/plain": [
              "'nohtyp ne nóicamargorp'"
            ],
            "application/vnd.google.colaboratory.intrinsic+json": {
              "type": "string"
            }
          },
          "metadata": {},
          "execution_count": 25
        }
      ],
      "source": [
        "texto[::-1]"
      ]
    },
    {
      "cell_type": "markdown",
      "metadata": {
        "id": "EIO2S5oKv3CC"
      },
      "source": [
        "Ejercicio\n",
        "\n",
        "1- Dado ese string devuelvan únicamente la palabra python usando slicing"
      ]
    },
    {
      "cell_type": "code",
      "execution_count": 26,
      "metadata": {
        "colab": {
          "base_uri": "https://localhost:8080/",
          "height": 36
        },
        "id": "GmH90N0Qv3CC",
        "outputId": "f0d1291d-2c49-4915-aceb-37ef7fe9d469"
      },
      "outputs": [
        {
          "output_type": "execute_result",
          "data": {
            "text/plain": [
              "'programación en python'"
            ],
            "application/vnd.google.colaboratory.intrinsic+json": {
              "type": "string"
            }
          },
          "metadata": {},
          "execution_count": 26
        }
      ],
      "source": [
        "texto"
      ]
    },
    {
      "cell_type": "code",
      "execution_count": 27,
      "metadata": {
        "colab": {
          "base_uri": "https://localhost:8080/",
          "height": 36
        },
        "id": "yRhZMinYv3CD",
        "outputId": "7992190e-25da-481c-d6cb-02e1927e6dab"
      },
      "outputs": [
        {
          "output_type": "execute_result",
          "data": {
            "text/plain": [
              "'python'"
            ],
            "application/vnd.google.colaboratory.intrinsic+json": {
              "type": "string"
            }
          },
          "metadata": {},
          "execution_count": 27
        }
      ],
      "source": [
        "texto[16:23]"
      ]
    },
    {
      "cell_type": "code",
      "execution_count": 28,
      "metadata": {
        "colab": {
          "base_uri": "https://localhost:8080/",
          "height": 36
        },
        "id": "2STx2g_dv3CD",
        "outputId": "d6299b02-3305-4412-c702-1f6b296ec928"
      },
      "outputs": [
        {
          "output_type": "execute_result",
          "data": {
            "text/plain": [
              "'python'"
            ],
            "application/vnd.google.colaboratory.intrinsic+json": {
              "type": "string"
            }
          },
          "metadata": {},
          "execution_count": 28
        }
      ],
      "source": [
        "texto[16:23]"
      ]
    },
    {
      "cell_type": "code",
      "execution_count": 29,
      "metadata": {
        "colab": {
          "base_uri": "https://localhost:8080/",
          "height": 36
        },
        "id": "6Lh96KY_v3CD",
        "outputId": "94106ec5-ad9f-4941-92c5-4788f95eaf83"
      },
      "outputs": [
        {
          "output_type": "execute_result",
          "data": {
            "text/plain": [
              "'python'"
            ],
            "application/vnd.google.colaboratory.intrinsic+json": {
              "type": "string"
            }
          },
          "metadata": {},
          "execution_count": 29
        }
      ],
      "source": [
        "texto[-6:]"
      ]
    },
    {
      "cell_type": "code",
      "execution_count": 30,
      "metadata": {
        "colab": {
          "base_uri": "https://localhost:8080/",
          "height": 36
        },
        "id": "uWN5UBDvv3CD",
        "outputId": "1abc20d2-b750-4aab-e062-b4709d51d6ac"
      },
      "outputs": [
        {
          "output_type": "execute_result",
          "data": {
            "text/plain": [
              "'python'"
            ],
            "application/vnd.google.colaboratory.intrinsic+json": {
              "type": "string"
            }
          },
          "metadata": {},
          "execution_count": 30
        }
      ],
      "source": [
        "texto[-6:23:1]"
      ]
    },
    {
      "cell_type": "markdown",
      "metadata": {
        "id": "4Z8-CoDRv3CD"
      },
      "source": [
        "Veamos algunos otros métodos de los strings"
      ]
    },
    {
      "cell_type": "code",
      "execution_count": 31,
      "metadata": {
        "colab": {
          "base_uri": "https://localhost:8080/",
          "height": 36
        },
        "id": "9iByw8-Hv3CD",
        "outputId": "37b835ba-59b7-4885-bd9a-48c3cee73c4f"
      },
      "outputs": [
        {
          "output_type": "execute_result",
          "data": {
            "text/plain": [
              "'PROGRAMACIÓN EN PYTHON'"
            ],
            "application/vnd.google.colaboratory.intrinsic+json": {
              "type": "string"
            }
          },
          "metadata": {},
          "execution_count": 31
        }
      ],
      "source": [
        "texto.upper()"
      ]
    },
    {
      "cell_type": "code",
      "execution_count": 32,
      "metadata": {
        "colab": {
          "base_uri": "https://localhost:8080/",
          "height": 36
        },
        "id": "tUKP-ooEv3CD",
        "outputId": "028e1427-b306-49e1-e470-eb75a4d1fd71"
      },
      "outputs": [
        {
          "output_type": "execute_result",
          "data": {
            "text/plain": [
              "'Programación En Python'"
            ],
            "application/vnd.google.colaboratory.intrinsic+json": {
              "type": "string"
            }
          },
          "metadata": {},
          "execution_count": 32
        }
      ],
      "source": [
        "texto.title()"
      ]
    },
    {
      "cell_type": "code",
      "execution_count": 33,
      "metadata": {
        "colab": {
          "base_uri": "https://localhost:8080/"
        },
        "id": "BeaXbxfWv3CD",
        "outputId": "37e5c1d7-4b0a-4a00-b874-0d68bfa2e6d7"
      },
      "outputs": [
        {
          "output_type": "execute_result",
          "data": {
            "text/plain": [
              "['programación', 'en', 'python']"
            ]
          },
          "metadata": {},
          "execution_count": 33
        }
      ],
      "source": [
        "texto.split() # Devuelve una lista, de ésto vamos a hablar a continuación"
      ]
    },
    {
      "cell_type": "markdown",
      "metadata": {
        "id": "blbkpMzVv3CD"
      },
      "source": [
        "Otras formas de combinar variables y texto..."
      ]
    },
    {
      "cell_type": "markdown",
      "metadata": {
        "id": "b0HeYJlcv3CE"
      },
      "source": [
        "Rellenamos un string con **.format(query, modales)**:"
      ]
    },
    {
      "cell_type": "code",
      "execution_count": 34,
      "metadata": {
        "colab": {
          "base_uri": "https://localhost:8080/",
          "height": 36
        },
        "id": "niBK9uV2v3CE",
        "outputId": "a6239012-2f01-46a7-931d-b40240e6a60e"
      },
      "outputs": [
        {
          "output_type": "execute_result",
          "data": {
            "text/plain": [
              "'Dame información de data science si esta disponible, por favor'"
            ],
            "application/vnd.google.colaboratory.intrinsic+json": {
              "type": "string"
            }
          },
          "metadata": {},
          "execution_count": 34
        }
      ],
      "source": [
        "tema = 'data science'\n",
        "modales = 'por favor'\n",
        "\n",
        "'Dame información de {0} si esta disponible, {1}'.format(tema, modales)"
      ]
    },
    {
      "cell_type": "code",
      "execution_count": 35,
      "metadata": {
        "colab": {
          "base_uri": "https://localhost:8080/"
        },
        "id": "9C6pCc-pv3CE",
        "outputId": "d5e871fb-f267-4865-b973-64c9cf163818"
      },
      "outputs": [
        {
          "output_type": "stream",
          "name": "stdout",
          "text": [
            "Dame información de DATA SCIENCE si esta disponible, por favor\n"
          ]
        }
      ],
      "source": [
        "#Otra manera\n",
        "print(f'Dame información de {tema.upper()} si esta disponible, {modales}')"
      ]
    },
    {
      "cell_type": "markdown",
      "metadata": {
        "id": "9PrwaQkEv3CE"
      },
      "source": [
        "Otros métodos a mencionar son:"
      ]
    },
    {
      "cell_type": "code",
      "execution_count": 36,
      "metadata": {
        "colab": {
          "base_uri": "https://localhost:8080/"
        },
        "id": "UoPxfmkkv3CE",
        "outputId": "f4cc912b-4350-4de0-be77-ed739af191a8"
      },
      "outputs": [
        {
          "output_type": "execute_result",
          "data": {
            "text/plain": [
              "True"
            ]
          },
          "metadata": {},
          "execution_count": 36
        }
      ],
      "source": [
        "\"1000\".isdigit()"
      ]
    },
    {
      "cell_type": "code",
      "execution_count": 39,
      "metadata": {
        "colab": {
          "base_uri": "https://localhost:8080/",
          "height": 36
        },
        "id": "47FG2563v3CE",
        "outputId": "7b04e55c-d8d3-45ab-e098-3c40fd912985"
      },
      "outputs": [
        {
          "output_type": "execute_result",
          "data": {
            "text/plain": [
              "'Me'"
            ],
            "application/vnd.google.colaboratory.intrinsic+json": {
              "type": "string"
            }
          },
          "metadata": {},
          "execution_count": 39
        }
      ],
      "source": [
        "texto.replace(' ', '...')"
      ]
    },
    {
      "cell_type": "code",
      "execution_count": 40,
      "metadata": {
        "colab": {
          "base_uri": "https://localhost:8080/",
          "height": 36
        },
        "id": "68bPzJ7Av3CE",
        "outputId": "47c0eb5a-a673-47fa-e09b-5d362075283a"
      },
      "outputs": [
        {
          "output_type": "execute_result",
          "data": {
            "text/plain": [
              "'quitando espacios'"
            ],
            "application/vnd.google.colaboratory.intrinsic+json": {
              "type": "string"
            }
          },
          "metadata": {},
          "execution_count": 40
        }
      ],
      "source": [
        "\"   quitando espacios  \".strip()"
      ]
    },
    {
      "cell_type": "code",
      "execution_count": 37,
      "metadata": {
        "colab": {
          "base_uri": "https://localhost:8080/"
        },
        "id": "ZHc5WGTav3CE",
        "outputId": "85ea41d8-5467-48db-c174-e32068379a7f"
      },
      "outputs": [
        {
          "output_type": "execute_result",
          "data": {
            "text/plain": [
              "False"
            ]
          },
          "metadata": {},
          "execution_count": 37
        }
      ],
      "source": [
        "texto = \"Me gusta el 37\" # Piso el contenido de la variable para hacer otras pruebas\n",
        "texto.isalpha()"
      ]
    },
    {
      "cell_type": "code",
      "execution_count": 38,
      "metadata": {
        "colab": {
          "base_uri": "https://localhost:8080/"
        },
        "id": "8LEEnPhrv3CE",
        "outputId": "19578deb-13e2-4c40-c474-a471d8909def"
      },
      "outputs": [
        {
          "output_type": "execute_result",
          "data": {
            "text/plain": [
              "True"
            ]
          },
          "metadata": {},
          "execution_count": 38
        }
      ],
      "source": [
        "texto = \"Me\" # Piso el contenido de la variable\n",
        "texto.isalpha()"
      ]
    },
    {
      "cell_type": "markdown",
      "metadata": {
        "id": "0xO5s6rmv3CE"
      },
      "source": [
        "#### Ejercicios <a name=\"section-5\"></a>\n",
        "\n",
        "1- Concatenar los string \"hola\" y \"qué tal\", separando ambos strings con un espacio (Tip: un espacio es: \" \")\n",
        "\n",
        "2- Guardar el resultado anterior en una variable y pasar el texto a mayúsculas."
      ]
    },
    {
      "cell_type": "code",
      "execution_count": 53,
      "metadata": {
        "id": "H3kwAgaJv3CF"
      },
      "outputs": [],
      "source": [
        "# Ejercicio 1\n",
        "\"hola\"+\" \"+\"qué tal\"\n",
        "'{0} {1}'.format(\"hola\", \"qué tal\")\n",
        "a = \"hola\"\n",
        "b = \"qué tal\"\n",
        "concat = f'{a} {b}'\n",
        "\n"
      ]
    },
    {
      "cell_type": "code",
      "execution_count": 54,
      "metadata": {
        "colab": {
          "base_uri": "https://localhost:8080/",
          "height": 36
        },
        "id": "1T1KkYuqv3CF",
        "outputId": "bc9f5dcb-f462-4c0c-c99a-d516a2f68340"
      },
      "outputs": [
        {
          "output_type": "execute_result",
          "data": {
            "text/plain": [
              "'HOLA QUÉ TAL'"
            ],
            "application/vnd.google.colaboratory.intrinsic+json": {
              "type": "string"
            }
          },
          "metadata": {},
          "execution_count": 54
        }
      ],
      "source": [
        "# Ejercicio 2\n",
        "concat.upper()"
      ]
    },
    {
      "cell_type": "markdown",
      "metadata": {
        "id": "t1yWuIrqv3CF"
      },
      "source": [
        "## Listas <a name=\"section-6\"></a>\n",
        "\n",
        "Las listas son un conjunto de elementos ordenados. Estos elementos pueden ser de cualquier tipo, incluyendo otras listas. Veamos algunas operaciones con ellas."
      ]
    },
    {
      "cell_type": "code",
      "execution_count": 55,
      "metadata": {
        "scrolled": true,
        "id": "LWkrrLBiv3CF"
      },
      "outputs": [],
      "source": [
        "amigos = ['Mateo', 'Nico', 'Claudia', 'Ernestina', 'Paola']"
      ]
    },
    {
      "cell_type": "markdown",
      "metadata": {
        "id": "mIZ9ZCDav3CF"
      },
      "source": [
        "### Indexing y slicing en listas"
      ]
    },
    {
      "cell_type": "markdown",
      "metadata": {
        "id": "FmbMCBIiv3CF"
      },
      "source": [
        "De la misma forma que con los strings en el contexto de la listas generalmente hablamos de **indexación** o acceso por índice a la acción de encontrar un valor según su posición en la lista.\n",
        "\n",
        "Importantísimo (sí, ¡una vez más!): En Python el primer elemento se indexa con el valor 0. Es decir, si queremos el primer valor de una lista tenemos que llamar a la posición 0."
      ]
    },
    {
      "cell_type": "code",
      "execution_count": 56,
      "metadata": {
        "colab": {
          "base_uri": "https://localhost:8080/",
          "height": 36
        },
        "id": "amOJkA_pv3CF",
        "outputId": "e1c156e6-83f8-4615-eae6-b85bc1dc91aa"
      },
      "outputs": [
        {
          "output_type": "execute_result",
          "data": {
            "text/plain": [
              "'Mateo'"
            ],
            "application/vnd.google.colaboratory.intrinsic+json": {
              "type": "string"
            }
          },
          "metadata": {},
          "execution_count": 56
        }
      ],
      "source": [
        "amigos[0]"
      ]
    },
    {
      "cell_type": "markdown",
      "metadata": {
        "id": "QhYS8aIWv3CF"
      },
      "source": [
        "Además, el último elemento se indexa como -1, el siguiente -2 y así sucesivamente. Entonces para acceder al último elemento:"
      ]
    },
    {
      "cell_type": "code",
      "execution_count": 57,
      "metadata": {
        "colab": {
          "base_uri": "https://localhost:8080/",
          "height": 36
        },
        "id": "HwUGuno1v3CG",
        "outputId": "c1003fb4-b494-45bf-cb18-5378f4b3f744"
      },
      "outputs": [
        {
          "output_type": "execute_result",
          "data": {
            "text/plain": [
              "'Paola'"
            ],
            "application/vnd.google.colaboratory.intrinsic+json": {
              "type": "string"
            }
          },
          "metadata": {},
          "execution_count": 57
        }
      ],
      "source": [
        "amigos[-1]"
      ]
    },
    {
      "cell_type": "markdown",
      "metadata": {
        "id": "P46I9ssrv3CG"
      },
      "source": [
        "Además, podemos acceder a varios elementos en simultáneo, usando el **slicing** de la misma manera que con strings.\n",
        "\n",
        "El slicing aplicado a una lista nos devuelve una **lista**.\n",
        "\n",
        "Veamos algunos ejemplos:"
      ]
    },
    {
      "cell_type": "code",
      "execution_count": 58,
      "metadata": {
        "colab": {
          "base_uri": "https://localhost:8080/"
        },
        "id": "ZqMWkcPgv3CG",
        "outputId": "ff93c196-b39a-4ac2-ad19-3e708657f89b"
      },
      "outputs": [
        {
          "output_type": "execute_result",
          "data": {
            "text/plain": [
              "['Mateo', 'Nico', 'Claudia', 'Ernestina', 'Paola']"
            ]
          },
          "metadata": {},
          "execution_count": 58
        }
      ],
      "source": [
        "amigos[:] # arranco en 0 hasta el final, con el paso default (1)"
      ]
    },
    {
      "cell_type": "code",
      "execution_count": 59,
      "metadata": {
        "colab": {
          "base_uri": "https://localhost:8080/"
        },
        "id": "0fg_6_v4v3CG",
        "outputId": "d9ded88d-2d83-440a-f329-a14cacc0d191"
      },
      "outputs": [
        {
          "output_type": "execute_result",
          "data": {
            "text/plain": [
              "['Mateo']"
            ]
          },
          "metadata": {},
          "execution_count": 59
        }
      ],
      "source": [
        "amigos[:1] # arranco en 0 y el primero sin incluir es el 1, con el paso default (1)"
      ]
    },
    {
      "cell_type": "code",
      "execution_count": 60,
      "metadata": {
        "colab": {
          "base_uri": "https://localhost:8080/"
        },
        "id": "wadtAIOYv3CG",
        "outputId": "421e5d15-5a82-44ea-ddac-cb3cefa0019d"
      },
      "outputs": [
        {
          "output_type": "execute_result",
          "data": {
            "text/plain": [
              "['Mateo', 'Nico', 'Claudia', 'Ernestina']"
            ]
          },
          "metadata": {},
          "execution_count": 60
        }
      ],
      "source": [
        "amigos[:-1] # excluímos el último elemento"
      ]
    },
    {
      "cell_type": "code",
      "execution_count": 61,
      "metadata": {
        "colab": {
          "base_uri": "https://localhost:8080/"
        },
        "id": "p7WhQrBov3CG",
        "outputId": "43e71212-8944-4aea-cb4f-27f3b80953a6"
      },
      "outputs": [
        {
          "output_type": "execute_result",
          "data": {
            "text/plain": [
              "['Mateo', 'Claudia', 'Paola']"
            ]
          },
          "metadata": {},
          "execution_count": 61
        }
      ],
      "source": [
        "amigos[::2] # salteamos un elemento a la vez"
      ]
    },
    {
      "cell_type": "markdown",
      "metadata": {
        "id": "Txc3S0VBv3CG"
      },
      "source": [
        "Ejercicios:\n",
        "\n",
        "1- ¿Es el resultado de amigos[:1] igual al de acceder directamente a la primera posición?\n",
        "\n",
        "2- Recorrer la lista de elementos de atrás para adelante.\n",
        "\n",
        "3- Seleccionar del 3er elemento al 4to elemento."
      ]
    },
    {
      "cell_type": "code",
      "source": [
        "amigos[:1]"
      ],
      "metadata": {
        "id": "bq3GGV32MMho",
        "outputId": "242b24ab-5666-496a-d55b-217dadb812d2",
        "colab": {
          "base_uri": "https://localhost:8080/"
        }
      },
      "execution_count": 63,
      "outputs": [
        {
          "output_type": "execute_result",
          "data": {
            "text/plain": [
              "['Mateo']"
            ]
          },
          "metadata": {},
          "execution_count": 63
        }
      ]
    },
    {
      "cell_type": "code",
      "source": [
        "amigos[0]"
      ],
      "metadata": {
        "id": "GR59X4LxMXc9",
        "outputId": "597f86e3-1cbf-4cc1-aeaf-2935fe0777f7",
        "colab": {
          "base_uri": "https://localhost:8080/",
          "height": 36
        }
      },
      "execution_count": 64,
      "outputs": [
        {
          "output_type": "execute_result",
          "data": {
            "text/plain": [
              "'Mateo'"
            ],
            "application/vnd.google.colaboratory.intrinsic+json": {
              "type": "string"
            }
          },
          "metadata": {},
          "execution_count": 64
        }
      ]
    },
    {
      "cell_type": "code",
      "source": [
        "amigos[::-1]"
      ],
      "metadata": {
        "id": "VprMpj_MMdSX",
        "outputId": "4093b757-eaaf-4c0f-a0ac-fe041e848366",
        "colab": {
          "base_uri": "https://localhost:8080/"
        }
      },
      "execution_count": 65,
      "outputs": [
        {
          "output_type": "execute_result",
          "data": {
            "text/plain": [
              "['Paola', 'Ernestina', 'Claudia', 'Nico', 'Mateo']"
            ]
          },
          "metadata": {},
          "execution_count": 65
        }
      ]
    },
    {
      "cell_type": "code",
      "source": [
        "amigos[2:4]"
      ],
      "metadata": {
        "id": "9m1ZwPgUMpVD",
        "outputId": "8d4aeee6-7886-4725-a7fb-a328c06ef02a",
        "colab": {
          "base_uri": "https://localhost:8080/"
        }
      },
      "execution_count": 66,
      "outputs": [
        {
          "output_type": "execute_result",
          "data": {
            "text/plain": [
              "['Claudia', 'Ernestina']"
            ]
          },
          "metadata": {},
          "execution_count": 66
        }
      ]
    },
    {
      "cell_type": "markdown",
      "metadata": {
        "id": "_1TxtDzZv3CG"
      },
      "source": [
        "### Otras operaciones y métodos"
      ]
    },
    {
      "cell_type": "markdown",
      "metadata": {
        "id": "TIxG8tfQv3CG"
      },
      "source": [
        "Agregar un nuevo elemento:"
      ]
    },
    {
      "cell_type": "code",
      "execution_count": null,
      "metadata": {
        "id": "G2oTFHUSv3CH"
      },
      "outputs": [],
      "source": [
        "amigos.append('Chicharito')\n",
        "print(amigos)\n",
        "\n",
        "amigos = amigos + ['Chicharito']\n",
        "\n",
        "x = 10\n",
        "\n",
        "x = x + 3\n",
        "\n",
        "x"
      ]
    },
    {
      "cell_type": "markdown",
      "metadata": {
        "id": "qGjI08x4v3CH"
      },
      "source": [
        "Sumamos otra lista:"
      ]
    },
    {
      "cell_type": "code",
      "execution_count": null,
      "metadata": {
        "id": "OMEG-r5Pv3CH"
      },
      "outputs": [],
      "source": [
        "amigos = amigos + ['Pipi', 'Toto']\n",
        "print(amigos)"
      ]
    },
    {
      "cell_type": "markdown",
      "metadata": {
        "id": "gRwJqFbpv3CH"
      },
      "source": [
        "Unir una lista con un separador dado:"
      ]
    },
    {
      "cell_type": "code",
      "execution_count": 67,
      "metadata": {
        "colab": {
          "base_uri": "https://localhost:8080/",
          "height": 36
        },
        "id": "rpXc5nuqv3CH",
        "outputId": "522448c0-d05a-441d-fa03-3ce99e71cdcf"
      },
      "outputs": [
        {
          "output_type": "execute_result",
          "data": {
            "text/plain": [
              "'valor1;valor2;valor3'"
            ],
            "application/vnd.google.colaboratory.intrinsic+json": {
              "type": "string"
            }
          },
          "metadata": {},
          "execution_count": 67
        }
      ],
      "source": [
        "ejemplo = ['valor1', 'valor2', 'valor3']\n",
        "';'.join(ejemplo)"
      ]
    },
    {
      "cell_type": "markdown",
      "metadata": {
        "id": "34RPu2_kv3CH"
      },
      "source": [
        "El ejercicio 1 se podría haber resuelto usando .join así:"
      ]
    },
    {
      "cell_type": "code",
      "execution_count": 68,
      "metadata": {
        "colab": {
          "base_uri": "https://localhost:8080/",
          "height": 36
        },
        "id": "npoVyWlMv3CH",
        "outputId": "5106713c-59a9-462a-fadb-6819c95f3343"
      },
      "outputs": [
        {
          "output_type": "execute_result",
          "data": {
            "text/plain": [
              "'hola qué tal'"
            ],
            "application/vnd.google.colaboratory.intrinsic+json": {
              "type": "string"
            }
          },
          "metadata": {},
          "execution_count": 68
        }
      ],
      "source": [
        "\" \".join([\"hola\", \"qué tal\"])"
      ]
    },
    {
      "cell_type": "markdown",
      "metadata": {
        "id": "cTuobAvAv3CH"
      },
      "source": [
        "Borrado por valor:"
      ]
    },
    {
      "cell_type": "code",
      "execution_count": 69,
      "metadata": {
        "colab": {
          "base_uri": "https://localhost:8080/"
        },
        "id": "sPX8EjD4v3CH",
        "outputId": "a6aa593a-53f7-4909-a27e-f9fdee075493"
      },
      "outputs": [
        {
          "output_type": "stream",
          "name": "stdout",
          "text": [
            "['Nico', 'Claudia', 'Ernestina', 'Paola']\n"
          ]
        }
      ],
      "source": [
        "amigos.remove('Mateo')\n",
        "print(amigos)"
      ]
    },
    {
      "cell_type": "markdown",
      "metadata": {
        "id": "tbfZ4Df-v3CH"
      },
      "source": [
        "Borrado por índice:"
      ]
    },
    {
      "cell_type": "code",
      "execution_count": 70,
      "metadata": {
        "scrolled": true,
        "colab": {
          "base_uri": "https://localhost:8080/"
        },
        "id": "ksvwflw9v3CI",
        "outputId": "4fdd5c94-d50a-4e0d-afad-d23ee2b04db0"
      },
      "outputs": [
        {
          "output_type": "stream",
          "name": "stdout",
          "text": [
            "['Claudia', 'Ernestina', 'Paola']\n"
          ]
        }
      ],
      "source": [
        "del amigos[0]\n",
        "print(amigos)"
      ]
    },
    {
      "cell_type": "markdown",
      "metadata": {
        "id": "cMP4_n7iv3CI"
      },
      "source": [
        "Devuelve un elemento y lo borra de la lista:"
      ]
    },
    {
      "cell_type": "code",
      "execution_count": 71,
      "metadata": {
        "id": "dMZ1D3hyv3CI"
      },
      "outputs": [],
      "source": [
        "valor = amigos.pop(0)"
      ]
    },
    {
      "cell_type": "code",
      "execution_count": 72,
      "metadata": {
        "id": "lMLNLup_v3CI"
      },
      "outputs": [],
      "source": [
        "edades = [30, 40, 38, 30, 37]"
      ]
    },
    {
      "cell_type": "markdown",
      "metadata": {
        "id": "mg9QnxzTv3CI"
      },
      "source": [
        "Cantidad de apariciones:"
      ]
    },
    {
      "cell_type": "code",
      "execution_count": 82,
      "metadata": {
        "colab": {
          "base_uri": "https://localhost:8080/"
        },
        "id": "E5WC4qPzv3CI",
        "outputId": "0b7e716d-7b61-4d83-fcd8-d47e587f49ac"
      },
      "outputs": [
        {
          "output_type": "stream",
          "name": "stdout",
          "text": [
            "2\n"
          ]
        }
      ],
      "source": [
        "print(edades.count(30))"
      ]
    },
    {
      "cell_type": "markdown",
      "metadata": {
        "id": "CrGf2uGDv3CI"
      },
      "source": [
        "Largo de la lista:"
      ]
    },
    {
      "cell_type": "code",
      "execution_count": 74,
      "metadata": {
        "colab": {
          "base_uri": "https://localhost:8080/"
        },
        "id": "arYc7kMyv3CI",
        "outputId": "d98c23c5-81ca-4639-e054-e2b437a64568"
      },
      "outputs": [
        {
          "output_type": "stream",
          "name": "stdout",
          "text": [
            "5\n"
          ]
        }
      ],
      "source": [
        "print(len(edades))"
      ]
    },
    {
      "cell_type": "markdown",
      "metadata": {
        "id": "7iZxYl-sv3CI"
      },
      "source": [
        "Ordenar la lista:"
      ]
    },
    {
      "cell_type": "code",
      "execution_count": 75,
      "metadata": {
        "colab": {
          "base_uri": "https://localhost:8080/"
        },
        "id": "9qJf9oIMv3CI",
        "outputId": "4843efd6-03d7-41e4-a8f4-39e24ea1117b"
      },
      "outputs": [
        {
          "output_type": "execute_result",
          "data": {
            "text/plain": [
              "[30, 30, 37, 38, 40]"
            ]
          },
          "metadata": {},
          "execution_count": 75
        }
      ],
      "source": [
        "sorted(edades)"
      ]
    },
    {
      "cell_type": "markdown",
      "metadata": {
        "id": "PlLe8lIsv3CI"
      },
      "source": [
        "Sumar el total:"
      ]
    },
    {
      "cell_type": "code",
      "execution_count": 76,
      "metadata": {
        "colab": {
          "base_uri": "https://localhost:8080/"
        },
        "id": "5zw3DzGNv3CJ",
        "outputId": "4baf8199-2e4f-4a21-ac08-4b3af9abfec2"
      },
      "outputs": [
        {
          "output_type": "stream",
          "name": "stdout",
          "text": [
            "175\n"
          ]
        }
      ],
      "source": [
        "print(sum(edades))"
      ]
    },
    {
      "cell_type": "markdown",
      "metadata": {
        "id": "LIoK5PVPv3CJ"
      },
      "source": [
        "Mínimo:"
      ]
    },
    {
      "cell_type": "code",
      "execution_count": 77,
      "metadata": {
        "colab": {
          "base_uri": "https://localhost:8080/"
        },
        "id": "G3pM165dv3CJ",
        "outputId": "0f97f007-cdfe-4c35-f21f-1aa8fc93a67a"
      },
      "outputs": [
        {
          "output_type": "stream",
          "name": "stdout",
          "text": [
            "30\n"
          ]
        }
      ],
      "source": [
        "print(min(edades))"
      ]
    },
    {
      "cell_type": "markdown",
      "metadata": {
        "id": "5KrgVrsPv3CJ"
      },
      "source": [
        "Máximo:"
      ]
    },
    {
      "cell_type": "code",
      "execution_count": 78,
      "metadata": {
        "colab": {
          "base_uri": "https://localhost:8080/"
        },
        "id": "4KavJtw7v3CJ",
        "outputId": "338695a3-d83a-4c6c-f8b5-1f7afdba484f"
      },
      "outputs": [
        {
          "output_type": "stream",
          "name": "stdout",
          "text": [
            "40\n"
          ]
        }
      ],
      "source": [
        "print(max(edades))"
      ]
    },
    {
      "cell_type": "markdown",
      "metadata": {
        "id": "aqJc1RZQv3CJ"
      },
      "source": [
        "Ejercicio: <a name=\"section-7\"></a>\n",
        "\n",
        "1- Calcular el promedio de edad de la lista \"edades\"\n"
      ]
    },
    {
      "cell_type": "code",
      "execution_count": 84,
      "metadata": {
        "colab": {
          "base_uri": "https://localhost:8080/"
        },
        "id": "7FcTJKtVv3CJ",
        "outputId": "f122b0c5-b46c-4ffd-b26a-4bd74503beff"
      },
      "outputs": [
        {
          "output_type": "stream",
          "name": "stdout",
          "text": [
            "35.0\n"
          ]
        }
      ],
      "source": [
        "# Ejercicio 1\n",
        "print(sum(edades)/len(edades))"
      ]
    },
    {
      "cell_type": "markdown",
      "metadata": {
        "id": "8MBRJ3unv3CK"
      },
      "source": [
        "## Diccionarios <a name=\"section-8\"></a>\n",
        "\n",
        "Los diccionarios consisten en estructuras que contienen pares de una **llave** y un **valor**. Los elementos NO están ordenados, con lo cual no se puede acceder por posición ni slicing.\n",
        "\n",
        "Veamos un ejemplo"
      ]
    },
    {
      "cell_type": "code",
      "execution_count": null,
      "metadata": {
        "id": "E9DQej20v3CK"
      },
      "outputs": [],
      "source": [
        "dnis = {'Herrera':32676585, 'Guzmán':9564787,\n",
        "        'Pérez':5676898, 'Hernández':40565999,\n",
        "        'Abraham':28375814,\n",
        "       \"soy_una_llave\":\"soy_un_valor\"}"
      ]
    },
    {
      "cell_type": "markdown",
      "metadata": {
        "id": "sdp5pw7uv3CK"
      },
      "source": [
        "Sin embargo, sí podemos acceder a un elemento por su llave. Accedemos al valor de \"Abraham\""
      ]
    },
    {
      "cell_type": "code",
      "execution_count": null,
      "metadata": {
        "id": "flHccUEvv3CK"
      },
      "outputs": [],
      "source": [
        "dnis['Abraham'] # noten que se usa la misma notación que con las listas"
      ]
    },
    {
      "cell_type": "markdown",
      "metadata": {
        "id": "7mjT0RXav3CL"
      },
      "source": [
        "¿Qué pasa si tratamos un diccionario como una lista?"
      ]
    },
    {
      "cell_type": "code",
      "execution_count": null,
      "metadata": {
        "id": "EsQOXkzuv3CL"
      },
      "outputs": [],
      "source": [
        "dnis[0]"
      ]
    },
    {
      "cell_type": "markdown",
      "metadata": {
        "id": "ExxX4j90v3CL"
      },
      "source": [
        "Tenemos un error, tratemos de interpretarlo: KeyError se refierre a que no existe una llave (Key) a la que se trató de acceder. En este caso la llave que se trató de acceder es 0."
      ]
    },
    {
      "cell_type": "markdown",
      "metadata": {
        "id": "pZrD9p-Mv3CL"
      },
      "source": [
        "Podemos ver todas las llaves:"
      ]
    },
    {
      "cell_type": "code",
      "execution_count": null,
      "metadata": {
        "id": "1uri-9yBv3CL"
      },
      "outputs": [],
      "source": [
        "dnis.keys()"
      ]
    },
    {
      "cell_type": "markdown",
      "metadata": {
        "id": "pBzPb_G2v3CL"
      },
      "source": [
        "Traer todos los pares de elementos:"
      ]
    },
    {
      "cell_type": "code",
      "execution_count": null,
      "metadata": {
        "id": "j4pVYHUpv3CL"
      },
      "outputs": [],
      "source": [
        "dnis.items()"
      ]
    },
    {
      "cell_type": "markdown",
      "metadata": {
        "id": "Jqo_KYn7v3CL"
      },
      "source": [
        "Y utilizar los mismos métodos para borrar y extrar como en las listas:"
      ]
    },
    {
      "cell_type": "code",
      "execution_count": null,
      "metadata": {
        "id": "7dHJcUhXv3CL"
      },
      "outputs": [],
      "source": [
        "dnis.pop('Herrera')"
      ]
    },
    {
      "cell_type": "markdown",
      "metadata": {
        "id": "LJN9BsMcv3CM"
      },
      "source": [
        "Los diccionarios tienen longitud, de la misma forma que las listas y string"
      ]
    },
    {
      "cell_type": "code",
      "execution_count": null,
      "metadata": {
        "id": "1u26Qcpiv3CM"
      },
      "outputs": [],
      "source": [
        "len(dnis)"
      ]
    },
    {
      "cell_type": "markdown",
      "metadata": {
        "id": "CBX9uJHpv3CM"
      },
      "source": [
        "## Condicionales <a name=\"section-9\"></a>\n",
        "\n",
        "El condicional tiene la siguiente sintáxis:\n",
        "\n",
        "    if CONDICIÓN:\n",
        "        código1\n",
        "    elif CONDICIÓN2:\n",
        "        código2\n",
        "    else:\n",
        "        código3\n",
        "        \n",
        "Donde la condición es un operador que devuelve un objeto de tipo booleano. La **indentación** del código define qué parte se incluye como condicional.\n",
        "\n",
        "El término \"elif\" viene de \"else if\". La condición sólo se evaluará si la condición del \"if\" no se cumple."
      ]
    },
    {
      "cell_type": "code",
      "execution_count": null,
      "metadata": {
        "id": "VY-HNLmVv3CM"
      },
      "outputs": [],
      "source": [
        "precio_dolar = 62\n",
        "\n",
        "if precio_dolar >= 90:\n",
        "    print(\"El dólar se fue por las nubes\")\n",
        "elif (precio_dolar < 90) and (precio_dolar >= 70):\n",
        "    print(\"El dolar subió\")\n",
        "else:\n",
        "    print(\"El dólar es menor a 70\")\n",
        "\n",
        "print(precio_dolar)"
      ]
    },
    {
      "cell_type": "markdown",
      "metadata": {
        "id": "nGwmCd50v3CM"
      },
      "source": [
        "## Bucles o Loops\n",
        "\n",
        "Los bucles son un tipo de sentencia donde se realiza el código contenido repetidamente. Existen dos tipos. En el bucle **for**, se **itera** o recorre un conjunto de elementos actuando por cada uno de ellos. En el bucle **while** se itera hasta que se cumple una condiciónn de corte."
      ]
    },
    {
      "cell_type": "markdown",
      "metadata": {
        "id": "rpkzdudDv3CM"
      },
      "source": [
        "### For loop"
      ]
    },
    {
      "cell_type": "code",
      "execution_count": null,
      "metadata": {
        "id": "njqxG_65v3CM"
      },
      "outputs": [],
      "source": [
        "for n in [1,2,'3']:\n",
        "    print(f'EL tipo es {n*2} {type(n*2)}')"
      ]
    },
    {
      "cell_type": "code",
      "execution_count": 2,
      "metadata": {
        "colab": {
          "base_uri": "https://localhost:8080/"
        },
        "id": "2a7qe0Dav3CM",
        "outputId": "6e9e0645-512e-45d0-b6ba-298c95679e16"
      },
      "outputs": [
        {
          "output_type": "stream",
          "name": "stdout",
          "text": [
            "2\n",
            "4\n",
            "6\n",
            "8\n",
            "10\n"
          ]
        }
      ],
      "source": [
        "lista = [1,2,3,4,5]\n",
        "\n",
        "for n in lista:\n",
        "    print(n * 2)"
      ]
    },
    {
      "cell_type": "markdown",
      "metadata": {
        "id": "asL5dwyvv3CM"
      },
      "source": [
        "También agreguemos la función **range** a nuestro repertorio. La función range consta de tres parámetros importante: start, stop, step. Si pasamos un sólo parámetro, estamos pasando el \"stop\" y tomamos 0 como valor default de \"start\". Del mismo modo que cuando vimos listas, el stop no está incluído y el step por default es 1.\n",
        "\n",
        "Veamos cómo funciona:"
      ]
    },
    {
      "cell_type": "code",
      "execution_count": 3,
      "metadata": {
        "colab": {
          "base_uri": "https://localhost:8080/"
        },
        "id": "5Th4U9N1v3CN",
        "outputId": "fc935971-e503-4602-ae45-268a341b970a"
      },
      "outputs": [
        {
          "output_type": "stream",
          "name": "stdout",
          "text": [
            "0\n",
            "1\n",
            "2\n",
            "3\n",
            "4\n"
          ]
        }
      ],
      "source": [
        "for n in range(5):\n",
        "    print(n)"
      ]
    },
    {
      "cell_type": "markdown",
      "metadata": {
        "id": "AgwxMd4Ov3CN"
      },
      "source": [
        "Si pasamos dos parámetros, estamos pasando el start y el stop, el primer valor es el \"start\" y el segundo el \"stop\"."
      ]
    },
    {
      "cell_type": "code",
      "execution_count": 4,
      "metadata": {
        "colab": {
          "base_uri": "https://localhost:8080/"
        },
        "id": "uai6l9c9v3CN",
        "outputId": "cbece960-9e82-41be-d86f-83cc070fbcd1"
      },
      "outputs": [
        {
          "output_type": "stream",
          "name": "stdout",
          "text": [
            "0\n",
            "1\n",
            "2\n",
            "3\n",
            "4\n"
          ]
        }
      ],
      "source": [
        "for n in range(0,5):\n",
        "    print(n)"
      ]
    },
    {
      "cell_type": "markdown",
      "metadata": {
        "id": "Dqcsh0wWv3CN"
      },
      "source": [
        "Noten que el valor de start se incluye y el de stop no:"
      ]
    },
    {
      "cell_type": "code",
      "execution_count": 5,
      "metadata": {
        "colab": {
          "base_uri": "https://localhost:8080/"
        },
        "id": "gN5VO8Fzv3CN",
        "outputId": "1e72aa92-c5a4-4088-9983-437d41ce0166"
      },
      "outputs": [
        {
          "output_type": "stream",
          "name": "stdout",
          "text": [
            "2\n",
            "4\n",
            "6\n",
            "8\n",
            "10\n"
          ]
        }
      ],
      "source": [
        "for n in range(1, 6): # esto nos da el mismo resultado que un par de celdas más arriba\n",
        "    print(n * 2)"
      ]
    },
    {
      "cell_type": "markdown",
      "metadata": {
        "id": "Gzo__9kPv3CN"
      },
      "source": [
        "Por último, el tercer parámetro es el step..."
      ]
    },
    {
      "cell_type": "markdown",
      "metadata": {
        "id": "TTRpJOxXv3CN"
      },
      "source": [
        "Ejercicios combinando lo visto hasta el momento:\n",
        "\n",
        "1- Imprimir los valores de 1 a 50, salteando de a un valor por vez...\n",
        "\n",
        "2- Dada la siguiente lista: medios = [\"cheques\", \"bonos\", \"acciones\", 1000, \"transferencia\"]. Acceder al 2do elemento, y luego al 3er elemento (de ese 2do elemento) y responder qué devulve.\n",
        "\n",
        "3- De manera similar, ahora accedan al 4to elemento, y luego al 3er elemento de éste, ¿qué ocurre?\n",
        "\n",
        "4- Agreguen una lista vacía al final de esa lista.\n",
        "\n",
        "5- Recorran *medios* (iteren) y si el tipo del elemento es string, hagan un print de su primer elemento, si es int (entero) pásenlo a string y hagan un print de su primer elemento y si no es nada de eso hagan un print que diga \"Es otro tipo\". Tip1: para pasar un elemento a tipo string pueden usar la función str(variable), donde variable es el elemento que quieren transformar. Tip2: para arrancar este ejercicio pueden copiar lo siguiente:"
      ]
    },
    {
      "cell_type": "code",
      "source": [
        "for n in range(1,50,2):\n",
        "  print (n)"
      ],
      "metadata": {
        "id": "lH0Xnkag2pVr",
        "outputId": "3db44991-b93b-465d-feb9-635fa4516891",
        "colab": {
          "base_uri": "https://localhost:8080/"
        }
      },
      "execution_count": 8,
      "outputs": [
        {
          "output_type": "stream",
          "name": "stdout",
          "text": [
            "1\n",
            "3\n",
            "5\n",
            "7\n",
            "9\n",
            "11\n",
            "13\n",
            "15\n",
            "17\n",
            "19\n",
            "21\n",
            "23\n",
            "25\n",
            "27\n",
            "29\n",
            "31\n",
            "33\n",
            "35\n",
            "37\n",
            "39\n",
            "41\n",
            "43\n",
            "45\n",
            "47\n",
            "49\n"
          ]
        }
      ]
    },
    {
      "cell_type": "code",
      "execution_count": null,
      "metadata": {
        "id": "gfpaTBG1v3CN"
      },
      "outputs": [],
      "source": [
        "for medio in medios:\n",
        "    pass # pass no hace nada, sólo pasa sin ejecutar nada... Reemplácenlo y completen con las condiciones."
      ]
    },
    {
      "cell_type": "markdown",
      "metadata": {
        "id": "OTGpk91lv3CN"
      },
      "source": [
        "### While loop"
      ]
    },
    {
      "cell_type": "markdown",
      "metadata": {
        "id": "sN1gB_aiv3CN"
      },
      "source": [
        "Los bucles **while** se definen con una condición, y el código contenido se ejecuta mientras la misma evalue como True. Es importante definir correctamente cuándo la condición pasa de True a False, si no lo hacemos podemos dejar corriendo un programa infinitamente sin que corte. Si eso llega a suceder tienen un botón de stop arriba en la notebook."
      ]
    },
    {
      "cell_type": "code",
      "execution_count": null,
      "metadata": {
        "id": "txCJpwfpv3CO"
      },
      "outputs": [],
      "source": [
        "contador = 0\n",
        "\n",
        "while contador < 20:\n",
        "    contador += 1 # esto equivale a count = count + 1\n",
        "    print(contador)"
      ]
    },
    {
      "cell_type": "markdown",
      "metadata": {
        "id": "fcqcxUmFv3CO"
      },
      "source": [
        "---\n",
        "\n",
        "## Recursos y tips\n",
        "\n",
        "\n",
        "- [Google!](https://google.com)\n",
        "- [StackOverflow](https://stackoverflow.com)\n",
        "- [Google Colab](https://colab.research.google.com)\n",
        "- [Slicing](https://python-reference.readthedocs.io/en/latest/docs/brackets/slicing.html)\n",
        "---\n",
        "\n",
        "## Tips en la práctica\n",
        "\n",
        "- Ver _docstring_ con Shift + TAB o help()\n",
        "- Leer Errores\n",
        "- Print"
      ]
    },
    {
      "cell_type": "code",
      "execution_count": null,
      "metadata": {
        "id": "-zSIkRwtv3CO"
      },
      "outputs": [],
      "source": []
    }
  ],
  "metadata": {
    "kernelspec": {
      "display_name": "conda_python3",
      "language": "python",
      "name": "conda_python3"
    },
    "language_info": {
      "codemirror_mode": {
        "name": "ipython",
        "version": 3
      },
      "file_extension": ".py",
      "mimetype": "text/x-python",
      "name": "python",
      "nbconvert_exporter": "python",
      "pygments_lexer": "ipython3",
      "version": "3.6.10"
    },
    "colab": {
      "provenance": [],
      "include_colab_link": true
    }
  },
  "nbformat": 4,
  "nbformat_minor": 0
}